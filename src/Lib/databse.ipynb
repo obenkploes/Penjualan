{
    "metadata": {
        "kernelspec": {
            "name": "SQL",
            "display_name": "SQL",
            "language": "sql"
        },
        "language_info": {
            "name": "sql",
            "version": ""
        }
    },
    "nbformat_minor": 2,
    "nbformat": 4,
    "cells": [
        {
            "cell_type": "code",
            "source": [
                "create table jabatan (\r\n",
                "    kode_jabatan int auto_increment primary key,\r\n",
                "    deskripsi varchar(100) \r\n",
                ")"
            ],
            "metadata": {
                "azdata_cell_guid": "71a746a3-5602-425a-be51-a9a605ebd30e",
                "language": "sql"
            },
            "outputs": [
                {
                    "output_type": "display_data",
                    "data": {
                        "text/html": "Commands completed successfully"
                    },
                    "metadata": {}
                },
                {
                    "output_type": "display_data",
                    "data": {
                        "text/html": "Total execution time: 00:00:00.025"
                    },
                    "metadata": {}
                }
            ],
            "execution_count": 1
        },
        {
            "cell_type": "code",
            "source": [
                "create table karyawan(\r\n",
                "    id_karyawan int auto_increment primary key,\r\n",
                "    nama_lengkap varchar(50),\r\n",
                "    alamat VARCHAR(100),\r\n",
                "    no_telp VARCHAR(15),\r\n",
                "    kode_jabatan int\r\n",
                ")"
            ],
            "metadata": {
                "azdata_cell_guid": "f2d1daba-b046-47ed-b7e4-702ce9a2718b",
                "language": "sql"
            },
            "outputs": [
                {
                    "output_type": "display_data",
                    "data": {
                        "text/html": "Commands completed successfully"
                    },
                    "metadata": {}
                },
                {
                    "output_type": "display_data",
                    "data": {
                        "text/html": "Total execution time: 00:00:00.025"
                    },
                    "metadata": {}
                }
            ],
            "execution_count": 2
        },
        {
            "cell_type": "code",
            "source": [
                "create table produk(\r\n",
                "    kode_produk int auto_increment PRIMARY KEY,\r\n",
                "    keterangan varchar(50),\r\n",
                "    merk VARCHAR(50),\r\n",
                "    kode_type enum(\"box\",\"pcs\"),\r\n",
                "    harga_beli int,\r\n",
                "    harga_jual int,\r\n",
                "    stok int\r\n",
                ")"
            ],
            "metadata": {
                "azdata_cell_guid": "e109f953-13fc-425c-a8c8-f663f2f1792c",
                "language": "sql"
            },
            "outputs": [
                {
                    "output_type": "display_data",
                    "data": {
                        "text/html": "Commands completed successfully"
                    },
                    "metadata": {}
                },
                {
                    "output_type": "display_data",
                    "data": {
                        "text/html": "Total execution time: 00:00:00.093"
                    },
                    "metadata": {}
                }
            ],
            "execution_count": 3
        },
        {
            "cell_type": "code",
            "source": [
                "create table penjualan(\r\n",
                "    kode_penjualan int auto_increment PRIMARY key,\r\n",
                "    tanggal date,\r\n",
                "    kode_member int,\r\n",
                "    kode_karyawan int \r\n",
                ")"
            ],
            "metadata": {
                "azdata_cell_guid": "59ed3344-c1e8-4fed-bfb9-81b2b556c757",
                "language": "sql"
            },
            "outputs": [
                {
                    "output_type": "display_data",
                    "data": {
                        "text/html": "Commands completed successfully"
                    },
                    "metadata": {}
                },
                {
                    "output_type": "display_data",
                    "data": {
                        "text/html": "Total execution time: 00:00:00.031"
                    },
                    "metadata": {}
                }
            ],
            "execution_count": 4
        },
        {
            "cell_type": "code",
            "source": [
                "create table detail_penjualan(\r\n",
                "    id_detail_penjualan int auto_increment PRIMARY KEY,\r\n",
                "    kode_produk int,\r\n",
                "    jumlah int,\r\n",
                "    kode_penjualan int\r\n",
                ")"
            ],
            "metadata": {
                "azdata_cell_guid": "4355fdc4-a6aa-47a7-b342-e56dd2cb5f62",
                "language": "sql"
            },
            "outputs": [
                {
                    "output_type": "display_data",
                    "data": {
                        "text/html": "Commands completed successfully"
                    },
                    "metadata": {}
                },
                {
                    "output_type": "display_data",
                    "data": {
                        "text/html": "Total execution time: 00:00:00.021"
                    },
                    "metadata": {}
                }
            ],
            "execution_count": 5
        },
        {
            "cell_type": "code",
            "source": [
                "create table member(\r\n",
                "    kode_member int auto_increment PRIMARY KEY,\r\n",
                "    nama_lengkap VARCHAR(50),\r\n",
                "    alamat VARCHAR(50),\r\n",
                "    no_telp VARCHAR(13)\r\n",
                ")"
            ],
            "metadata": {
                "azdata_cell_guid": "2371a1a5-841a-4864-9920-8bb7e93e53f0",
                "language": "sql"
            },
            "outputs": [
                {
                    "output_type": "display_data",
                    "data": {
                        "text/html": "Commands completed successfully"
                    },
                    "metadata": {}
                },
                {
                    "output_type": "display_data",
                    "data": {
                        "text/html": "Total execution time: 00:00:00.020"
                    },
                    "metadata": {}
                }
            ],
            "execution_count": 6
        }
    ]
}